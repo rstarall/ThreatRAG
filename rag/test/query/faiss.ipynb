{
 "cells": [
  {
   "cell_type": "code",
   "execution_count": 3,
   "metadata": {},
   "outputs": [
    {
     "name": "stderr",
     "output_type": "stream",
     "text": [
      "<>:7: SyntaxWarning: invalid escape sequence '\\C'\n",
      "<>:7: SyntaxWarning: invalid escape sequence '\\C'\n",
      "C:\\Users\\11451\\AppData\\Local\\Temp\\ipykernel_81916\\3051854224.py:7: SyntaxWarning: invalid escape sequence '\\C'\n",
      "  model = SentenceTransformer('E:\\CExperiment\\ThreatRAG\\models\\embedding_model\\\\bge-m3')\n"
     ]
    },
    {
     "name": "stdout",
     "output_type": "stream",
     "text": [
      "Top-5 matching documents:\n",
      "Document: cti_3.txt, Similarity Score: 0.502585232257843\n",
      "Document: cti_2.txt, Similarity Score: 0.5020726919174194\n",
      "Document: cti_1.txt, Similarity Score: 0.501251220703125\n",
      "Document: cti_3.txt, Similarity Score: -3.4028234663852886e+38\n",
      "Document: cti_3.txt, Similarity Score: -3.4028234663852886e+38\n"
     ]
    }
   ],
   "source": [
    "from sentence_transformers import SentenceTransformer\n",
    "import faiss\n",
    "import numpy as np\n",
    "import os\n",
    "\n",
    "# 加载预训练的BGE-M3模型\n",
    "model = SentenceTransformer('E:\\CExperiment\\ThreatRAG\\models\\embedding_model\\\\bge-m3')\n",
    "\n",
    "def load_documents(directory):\n",
    "    \"\"\"加载目录中的所有txt文档\"\"\"\n",
    "    documents = []\n",
    "    for filename in os.listdir(directory):\n",
    "        if filename.endswith(\".txt\"):\n",
    "            with open(os.path.join(directory, filename), 'r', encoding='utf-8') as file:\n",
    "                content = file.read()\n",
    "                documents.append((filename, content))\n",
    "    return documents\n",
    "\n",
    "def encode_documents(documents):\n",
    "    \"\"\"将文档内容转换为向量\"\"\"\n",
    "    document_texts = [doc[1] for doc in documents]\n",
    "    embeddings = model.encode(document_texts)\n",
    "    return embeddings\n",
    "\n",
    "def search_similar_documents(query_embedding, document_embeddings, top_k=5):\n",
    "    \"\"\"在文档向量中搜索最相似的文档\"\"\"\n",
    "    # 创建FAISS索引\n",
    "    d = query_embedding.shape[0]  # 向量维度\n",
    "    index = faiss.IndexFlatIP(d)  # 使用内积作为相似度度量\n",
    "    index.add(document_embeddings.astype(np.float32))\n",
    "\n",
    "    # 搜索最相似的文档\n",
    "    distances, indices = index.search(np.array([query_embedding]).astype(np.float32), top_k)\n",
    "    return indices[0], distances[0]\n",
    "\n",
    "def main(query_sentence, document_directory):\n",
    "    # 加载文档\n",
    "    documents = load_documents(document_directory)\n",
    "\n",
    "    # 将文档内容转换为向量\n",
    "    document_embeddings = encode_documents(documents)\n",
    "\n",
    "    # 将查询句子转换为向量\n",
    "    query_embedding = model.encode([query_sentence])[0]\n",
    "\n",
    "    # 在文档向量中搜索最相似的文档\n",
    "    top_indices, top_distances = search_similar_documents(query_embedding, document_embeddings, top_k=5)\n",
    "\n",
    "    # 输出结果\n",
    "    print(\"Top-5 matching documents:\")\n",
    "    for idx, distance in zip(top_indices, top_distances):\n",
    "        print(f\"Document: {documents[idx][0]}, Similarity Score: {distance}\")\n",
    "\n",
    "# 示例用法\n",
    "query_sentence = \"ioc.ip: '12.25.13.1'\"\n",
    "document_directory = \"./cti_text\"  # 包含txt文件的目录\n",
    "main(query_sentence, document_directory)"
   ]
  }
 ],
 "metadata": {
  "kernelspec": {
   "display_name": "Python 3",
   "language": "python",
   "name": "python3"
  },
  "language_info": {
   "codemirror_mode": {
    "name": "ipython",
    "version": 3
   },
   "file_extension": ".py",
   "mimetype": "text/x-python",
   "name": "python",
   "nbconvert_exporter": "python",
   "pygments_lexer": "ipython3",
   "version": "3.13.0"
  }
 },
 "nbformat": 4,
 "nbformat_minor": 2
}
